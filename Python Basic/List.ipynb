{
 "cells": [
  {
   "cell_type": "code",
   "execution_count": 1,
   "metadata": {},
   "outputs": [],
   "source": [
    "### Task:- Python List Exercise\n",
    "### Author:- Jagdish Chavan\n",
    "### Date:- 17/10/2022\n",
    "### Source Link:- https://www.geeksforgeeks.org/python-list-exercise/"
   ]
  },
  {
   "cell_type": "code",
   "execution_count": 6,
   "metadata": {},
   "outputs": [],
   "source": [
    "#task:-wpp to interchange first and last element in a List.\n",
    "def swap(lst_name):\n",
    "    \n",
    "    #swaping\n",
    "    lst_name[0],lst_name[-1]=lst_name[-1],lst_name[0]\n",
    "    return lst_name"
   ]
  },
  {
   "cell_type": "code",
   "execution_count": 7,
   "metadata": {},
   "outputs": [
    {
     "data": {
      "text/plain": [
       "['E', 'B', 'C', 'D', 'A']"
      ]
     },
     "execution_count": 7,
     "metadata": {},
     "output_type": "execute_result"
    }
   ],
   "source": [
    "#output\n",
    "lst =[\"A\",\"B\",\"C\",\"D\",\"E\"]\n",
    "swap(lst)"
   ]
  },
  {
   "cell_type": "code",
   "execution_count": 11,
   "metadata": {},
   "outputs": [],
   "source": [
    "#task:- wpp to swap two element in a list\n",
    "def swap_any(lst,position1,position2):\n",
    "    lst[position1],lst[position2]=lst[position2],lst[position1]\n",
    "    return lst\n"
   ]
  },
  {
   "cell_type": "code",
   "execution_count": 12,
   "metadata": {},
   "outputs": [
    {
     "data": {
      "text/plain": [
       "['E', 'B', 'C', 'D', 'A']"
      ]
     },
     "execution_count": 12,
     "metadata": {},
     "output_type": "execute_result"
    }
   ],
   "source": [
    "#output\n",
    "swap_any(lst,1,3)"
   ]
  },
  {
   "cell_type": "code",
   "execution_count": null,
   "metadata": {},
   "outputs": [],
   "source": [
    "#wpp to swap element in string list"
   ]
  }
 ],
 "metadata": {
  "kernelspec": {
   "display_name": "Python 3.9.12 ('ineuron')",
   "language": "python",
   "name": "python3"
  },
  "language_info": {
   "codemirror_mode": {
    "name": "ipython",
    "version": 3
   },
   "file_extension": ".py",
   "mimetype": "text/x-python",
   "name": "python",
   "nbconvert_exporter": "python",
   "pygments_lexer": "ipython3",
   "version": "3.9.12"
  },
  "orig_nbformat": 4,
  "vscode": {
   "interpreter": {
    "hash": "986ea21e548113e6a72f7a561364a8d8504f00a78feee73fea7e98e8a6820f1c"
   }
  }
 },
 "nbformat": 4,
 "nbformat_minor": 2
}
